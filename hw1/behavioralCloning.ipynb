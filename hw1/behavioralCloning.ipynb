{
 "cells": [
  {
   "cell_type": "code",
   "execution_count": 1,
   "metadata": {
    "collapsed": true
   },
   "outputs": [],
   "source": [
    "import tensorflow as tf\n",
    "from tensorflow import keras\n",
    "import numpy as np\n",
    "import matplotlib.pyplot as plt\n"
   ]
  },
  {
   "cell_type": "code",
   "execution_count": 2,
   "metadata": {
    "collapsed": true
   },
   "outputs": [],
   "source": [
    "import pickle"
   ]
  },
  {
   "cell_type": "markdown",
   "metadata": {},
   "source": [
    "## implement behavioral cloning "
   ]
  },
  {
   "cell_type": "code",
   "execution_count": 3,
   "metadata": {
    "collapsed": true
   },
   "outputs": [],
   "source": [
    "with open('expert_data/Hopper-v2.pkl', 'rb') as f:\n",
    "    data = pickle.loads(f.read())"
   ]
  },
  {
   "cell_type": "code",
   "execution_count": 4,
   "metadata": {},
   "outputs": [
    {
     "data": {
      "text/plain": [
       "(1000, 1, 3)"
      ]
     },
     "execution_count": 4,
     "metadata": {},
     "output_type": "execute_result"
    }
   ],
   "source": [
    "data['actions'].shape"
   ]
  },
  {
   "cell_type": "code",
   "execution_count": 5,
   "metadata": {},
   "outputs": [
    {
     "data": {
      "text/plain": [
       "(1000, 11)"
      ]
     },
     "execution_count": 5,
     "metadata": {},
     "output_type": "execute_result"
    }
   ],
   "source": [
    "data['observations'].shape"
   ]
  },
  {
   "cell_type": "code",
   "execution_count": 6,
   "metadata": {
    "collapsed": true
   },
   "outputs": [],
   "source": [
    "actions_data = data['actions'].squeeze(axis=1)\n",
    "observations_data = data['observations']"
   ]
  },
  {
   "cell_type": "code",
   "execution_count": 7,
   "metadata": {},
   "outputs": [],
   "source": [
    "model = keras.Sequential([\n",
    "    keras.layers.Dense(11, activation=tf.nn.tanh),\n",
    "    keras.layers.Dense(64, activation=tf.nn.tanh),\n",
    "    keras.layers.Dense(64, activation=tf.nn.tanh),\n",
    "    keras.layers.Dense(3)\n",
    "])"
   ]
  },
  {
   "cell_type": "code",
   "execution_count": 8,
   "metadata": {},
   "outputs": [],
   "source": [
    "model.compile(optimizer=tf.train.AdadeltaOptimizer(),\n",
    "              loss='mean_squared_error',\n",
    "              metrics=['accuracy'])"
   ]
  },
  {
   "cell_type": "code",
   "execution_count": 19,
   "metadata": {},
   "outputs": [
    {
     "name": "stdout",
     "output_type": "stream",
     "text": [
      "Epoch 1/100\n",
      "1000/1000 [==============================] - 0s 63us/step - loss: 2.4760 - acc: 0.3650\n",
      "Epoch 2/100\n",
      "1000/1000 [==============================] - 0s 72us/step - loss: 2.4716 - acc: 0.3660\n",
      "Epoch 3/100\n",
      "1000/1000 [==============================] - 0s 54us/step - loss: 2.4673 - acc: 0.3660\n",
      "Epoch 4/100\n",
      "1000/1000 [==============================] - 0s 48us/step - loss: 2.4631 - acc: 0.3660\n",
      "Epoch 5/100\n",
      "1000/1000 [==============================] - 0s 50us/step - loss: 2.4588 - acc: 0.3660\n",
      "Epoch 6/100\n",
      "1000/1000 [==============================] - 0s 50us/step - loss: 2.4545 - acc: 0.3660\n",
      "Epoch 7/100\n",
      "1000/1000 [==============================] - 0s 47us/step - loss: 2.4503 - acc: 0.3660\n",
      "Epoch 8/100\n",
      "1000/1000 [==============================] - 0s 48us/step - loss: 2.4461 - acc: 0.3660\n",
      "Epoch 9/100\n",
      "1000/1000 [==============================] - 0s 55us/step - loss: 2.4419 - acc: 0.3680\n",
      "Epoch 10/100\n",
      "1000/1000 [==============================] - 0s 61us/step - loss: 2.4377 - acc: 0.3670\n",
      "Epoch 11/100\n",
      "1000/1000 [==============================] - 0s 92us/step - loss: 2.4335 - acc: 0.3670\n",
      "Epoch 12/100\n",
      "1000/1000 [==============================] - 0s 82us/step - loss: 2.4293 - acc: 0.3670\n",
      "Epoch 13/100\n",
      "1000/1000 [==============================] - 0s 77us/step - loss: 2.4251 - acc: 0.3670\n",
      "Epoch 14/100\n",
      "1000/1000 [==============================] - 0s 81us/step - loss: 2.4210 - acc: 0.3680\n",
      "Epoch 15/100\n",
      "1000/1000 [==============================] - 0s 68us/step - loss: 2.4169 - acc: 0.3680\n",
      "Epoch 16/100\n",
      "1000/1000 [==============================] - 0s 65us/step - loss: 2.4128 - acc: 0.3680\n",
      "Epoch 17/100\n",
      "1000/1000 [==============================] - 0s 70us/step - loss: 2.4087 - acc: 0.3690\n",
      "Epoch 18/100\n",
      "1000/1000 [==============================] - 0s 78us/step - loss: 2.4046 - acc: 0.3690\n",
      "Epoch 19/100\n",
      "1000/1000 [==============================] - 0s 85us/step - loss: 2.4005 - acc: 0.3700\n",
      "Epoch 20/100\n",
      "1000/1000 [==============================] - 0s 63us/step - loss: 2.3965 - acc: 0.3700\n",
      "Epoch 21/100\n",
      "1000/1000 [==============================] - 0s 97us/step - loss: 2.3925 - acc: 0.3700\n",
      "Epoch 22/100\n",
      "1000/1000 [==============================] - 0s 128us/step - loss: 2.3885 - acc: 0.3710\n",
      "Epoch 23/100\n",
      "1000/1000 [==============================] - 0s 81us/step - loss: 2.3845 - acc: 0.3720\n",
      "Epoch 24/100\n",
      "1000/1000 [==============================] - 0s 77us/step - loss: 2.3805 - acc: 0.3720\n",
      "Epoch 25/100\n",
      "1000/1000 [==============================] - 0s 70us/step - loss: 2.3765 - acc: 0.3720\n",
      "Epoch 26/100\n",
      "1000/1000 [==============================] - 0s 72us/step - loss: 2.3726 - acc: 0.3720\n",
      "Epoch 27/100\n",
      "1000/1000 [==============================] - 0s 89us/step - loss: 2.3686 - acc: 0.3730\n",
      "Epoch 28/100\n",
      "1000/1000 [==============================] - 0s 122us/step - loss: 2.3647 - acc: 0.3730\n",
      "Epoch 29/100\n",
      "1000/1000 [==============================] - 0s 68us/step - loss: 2.3607 - acc: 0.3740\n",
      "Epoch 30/100\n",
      "1000/1000 [==============================] - 0s 63us/step - loss: 2.3568 - acc: 0.3750\n",
      "Epoch 31/100\n",
      "1000/1000 [==============================] - 0s 62us/step - loss: 2.3529 - acc: 0.3760\n",
      "Epoch 32/100\n",
      "1000/1000 [==============================] - 0s 52us/step - loss: 2.3490 - acc: 0.3770\n",
      "Epoch 33/100\n",
      "1000/1000 [==============================] - 0s 63us/step - loss: 2.3452 - acc: 0.3780\n",
      "Epoch 34/100\n",
      "1000/1000 [==============================] - 0s 88us/step - loss: 2.3413 - acc: 0.3770\n",
      "Epoch 35/100\n",
      "1000/1000 [==============================] - 0s 92us/step - loss: 2.3375 - acc: 0.3770\n",
      "Epoch 36/100\n",
      "1000/1000 [==============================] - 0s 83us/step - loss: 2.3337 - acc: 0.3780\n",
      "Epoch 37/100\n",
      "1000/1000 [==============================] - 0s 104us/step - loss: 2.3299 - acc: 0.3780\n",
      "Epoch 38/100\n",
      "1000/1000 [==============================] - 0s 116us/step - loss: 2.3261 - acc: 0.3790\n",
      "Epoch 39/100\n",
      "1000/1000 [==============================] - 0s 84us/step - loss: 2.3223 - acc: 0.3800\n",
      "Epoch 40/100\n",
      "1000/1000 [==============================] - 0s 82us/step - loss: 2.3185 - acc: 0.3800\n",
      "Epoch 41/100\n",
      "1000/1000 [==============================] - 0s 98us/step - loss: 2.3147 - acc: 0.3790\n",
      "Epoch 42/100\n",
      "1000/1000 [==============================] - 0s 119us/step - loss: 2.3109 - acc: 0.3790\n",
      "Epoch 43/100\n",
      "1000/1000 [==============================] - 0s 90us/step - loss: 2.3072 - acc: 0.3790\n",
      "Epoch 44/100\n",
      "1000/1000 [==============================] - 0s 73us/step - loss: 2.3034 - acc: 0.3780\n",
      "Epoch 45/100\n",
      "1000/1000 [==============================] - 0s 60us/step - loss: 2.2997 - acc: 0.3780\n",
      "Epoch 46/100\n",
      "1000/1000 [==============================] - 0s 66us/step - loss: 2.2960 - acc: 0.3790\n",
      "Epoch 47/100\n",
      "1000/1000 [==============================] - 0s 86us/step - loss: 2.2923 - acc: 0.3790\n",
      "Epoch 48/100\n",
      "1000/1000 [==============================] - 0s 86us/step - loss: 2.2887 - acc: 0.3790\n",
      "Epoch 49/100\n",
      "1000/1000 [==============================] - 0s 91us/step - loss: 2.2850 - acc: 0.3790\n",
      "Epoch 50/100\n",
      "1000/1000 [==============================] - 0s 57us/step - loss: 2.2814 - acc: 0.3790\n",
      "Epoch 51/100\n",
      "1000/1000 [==============================] - 0s 55us/step - loss: 2.2777 - acc: 0.3790\n",
      "Epoch 52/100\n",
      "1000/1000 [==============================] - 0s 66us/step - loss: 2.2740 - acc: 0.3790\n",
      "Epoch 53/100\n",
      "1000/1000 [==============================] - 0s 71us/step - loss: 2.2704 - acc: 0.3790\n",
      "Epoch 54/100\n",
      "1000/1000 [==============================] - 0s 79us/step - loss: 2.2668 - acc: 0.3810\n",
      "Epoch 55/100\n",
      "1000/1000 [==============================] - 0s 93us/step - loss: 2.2632 - acc: 0.3810\n",
      "Epoch 56/100\n",
      "1000/1000 [==============================] - 0s 53us/step - loss: 2.2597 - acc: 0.3830\n",
      "Epoch 57/100\n",
      "1000/1000 [==============================] - 0s 46us/step - loss: 2.2561 - acc: 0.3830\n",
      "Epoch 58/100\n",
      "1000/1000 [==============================] - 0s 52us/step - loss: 2.2525 - acc: 0.3830\n",
      "Epoch 59/100\n",
      "1000/1000 [==============================] - 0s 46us/step - loss: 2.2490 - acc: 0.3830\n",
      "Epoch 60/100\n",
      "1000/1000 [==============================] - 0s 74us/step - loss: 2.2454 - acc: 0.3790\n",
      "Epoch 61/100\n",
      "1000/1000 [==============================] - 0s 77us/step - loss: 2.2419 - acc: 0.3790\n",
      "Epoch 62/100\n",
      "1000/1000 [==============================] - 0s 74us/step - loss: 2.2384 - acc: 0.3800\n",
      "Epoch 63/100\n",
      "1000/1000 [==============================] - 0s 69us/step - loss: 2.2349 - acc: 0.3790\n",
      "Epoch 64/100\n",
      "1000/1000 [==============================] - 0s 49us/step - loss: 2.2314 - acc: 0.3790\n",
      "Epoch 65/100\n",
      "1000/1000 [==============================] - 0s 44us/step - loss: 2.2279 - acc: 0.3790\n",
      "Epoch 66/100\n",
      "1000/1000 [==============================] - 0s 52us/step - loss: 2.2245 - acc: 0.3810\n",
      "Epoch 67/100\n",
      "1000/1000 [==============================] - 0s 50us/step - loss: 2.2210 - acc: 0.3810\n",
      "Epoch 68/100\n",
      "1000/1000 [==============================] - 0s 44us/step - loss: 2.2176 - acc: 0.3810\n",
      "Epoch 69/100\n",
      "1000/1000 [==============================] - 0s 48us/step - loss: 2.2142 - acc: 0.3810\n",
      "Epoch 70/100\n",
      "1000/1000 [==============================] - 0s 54us/step - loss: 2.2109 - acc: 0.3820\n",
      "Epoch 71/100\n",
      "1000/1000 [==============================] - 0s 44us/step - loss: 2.2074 - acc: 0.3820\n",
      "Epoch 72/100\n",
      "1000/1000 [==============================] - 0s 57us/step - loss: 2.2041 - acc: 0.3830\n",
      "Epoch 73/100\n",
      "1000/1000 [==============================] - 0s 91us/step - loss: 2.2008 - acc: 0.3830\n",
      "Epoch 74/100\n",
      "1000/1000 [==============================] - 0s 80us/step - loss: 2.1975 - acc: 0.3840\n",
      "Epoch 75/100\n",
      "1000/1000 [==============================] - 0s 48us/step - loss: 2.1942 - acc: 0.3840\n",
      "Epoch 76/100\n",
      "1000/1000 [==============================] - 0s 43us/step - loss: 2.1908 - acc: 0.3830\n",
      "Epoch 77/100\n",
      "1000/1000 [==============================] - 0s 42us/step - loss: 2.1876 - acc: 0.3840\n",
      "Epoch 78/100\n",
      "1000/1000 [==============================] - 0s 44us/step - loss: 2.1843 - acc: 0.3850\n",
      "Epoch 79/100\n",
      "1000/1000 [==============================] - 0s 45us/step - loss: 2.1810 - acc: 0.3850\n",
      "Epoch 80/100\n",
      "1000/1000 [==============================] - 0s 41us/step - loss: 2.1777 - acc: 0.3850\n",
      "Epoch 81/100\n",
      "1000/1000 [==============================] - 0s 74us/step - loss: 2.1745 - acc: 0.3870\n",
      "Epoch 82/100\n",
      "1000/1000 [==============================] - 0s 73us/step - loss: 2.1713 - acc: 0.3870\n"
     ]
    },
    {
     "name": "stdout",
     "output_type": "stream",
     "text": [
      "Epoch 83/100\n",
      "1000/1000 [==============================] - 0s 76us/step - loss: 2.1681 - acc: 0.3880\n",
      "Epoch 84/100\n",
      "1000/1000 [==============================] - 0s 61us/step - loss: 2.1649 - acc: 0.3880\n",
      "Epoch 85/100\n",
      "1000/1000 [==============================] - 0s 40us/step - loss: 2.1616 - acc: 0.3880\n",
      "Epoch 86/100\n",
      "1000/1000 [==============================] - 0s 48us/step - loss: 2.1584 - acc: 0.3890\n",
      "Epoch 87/100\n",
      "1000/1000 [==============================] - 0s 42us/step - loss: 2.1552 - acc: 0.3890\n",
      "Epoch 88/100\n",
      "1000/1000 [==============================] - 0s 44us/step - loss: 2.1521 - acc: 0.3890\n",
      "Epoch 89/100\n",
      "1000/1000 [==============================] - 0s 43us/step - loss: 2.1489 - acc: 0.3890\n",
      "Epoch 90/100\n",
      "1000/1000 [==============================] - 0s 45us/step - loss: 2.1458 - acc: 0.3910\n",
      "Epoch 91/100\n",
      "1000/1000 [==============================] - 0s 92us/step - loss: 2.1427 - acc: 0.3910\n",
      "Epoch 92/100\n",
      "1000/1000 [==============================] - 0s 99us/step - loss: 2.1395 - acc: 0.3910\n",
      "Epoch 93/100\n",
      "1000/1000 [==============================] - 0s 92us/step - loss: 2.1364 - acc: 0.3910\n",
      "Epoch 94/100\n",
      "1000/1000 [==============================] - 0s 67us/step - loss: 2.1334 - acc: 0.3910\n",
      "Epoch 95/100\n",
      "1000/1000 [==============================] - 0s 61us/step - loss: 2.1303 - acc: 0.3920\n",
      "Epoch 96/100\n",
      "1000/1000 [==============================] - 0s 53us/step - loss: 2.1273 - acc: 0.3920\n",
      "Epoch 97/100\n",
      "1000/1000 [==============================] - 0s 51us/step - loss: 2.1243 - acc: 0.3930\n",
      "Epoch 98/100\n",
      "1000/1000 [==============================] - 0s 72us/step - loss: 2.1212 - acc: 0.3940\n",
      "Epoch 99/100\n",
      "1000/1000 [==============================] - 0s 122us/step - loss: 2.1182 - acc: 0.3960\n",
      "Epoch 100/100\n",
      "1000/1000 [==============================] - 0s 120us/step - loss: 2.1153 - acc: 0.3970\n"
     ]
    }
   ],
   "source": [
    "train = model.fit(observations_data, actions_data, epochs=100)"
   ]
  },
  {
   "cell_type": "code",
   "execution_count": 20,
   "metadata": {
    "collapsed": true
   },
   "outputs": [],
   "source": [
    "loss = train.history['loss']"
   ]
  },
  {
   "cell_type": "code",
   "execution_count": 21,
   "metadata": {},
   "outputs": [
    {
     "data": {
      "text/plain": [
       "[<matplotlib.lines.Line2D at 0x7f0844f13278>]"
      ]
     },
     "execution_count": 21,
     "metadata": {},
     "output_type": "execute_result"
    }
   ],
   "source": [
    "plt.plot(loss)"
   ]
  },
  {
   "cell_type": "code",
   "execution_count": 22,
   "metadata": {},
   "outputs": [
    {
     "data": {
      "image/png": "[encoded data removed]",
      "text/plain": [
       "<Figure size 432x288 with 1 Axes>"
      ]
     },
     "metadata": {},
     "output_type": "display_data"
    }
   ],
   "source": [
    "plt.show()"
   ]
  },
  {
   "cell_type": "markdown",
   "metadata": {},
   "source": [
    "## evaluate the performance"
   ]
  },
  {
   "cell_type": "code",
   "execution_count": 23,
   "metadata": {
    "collapsed": true
   },
   "outputs": [],
   "source": [
    "import gym"
   ]
  },
  {
   "cell_type": "code",
   "execution_count": 24,
   "metadata": {
    "collapsed": true
   },
   "outputs": [],
   "source": [
    "env = gym.make('Hopper-v2')"
   ]
  },
  {
   "cell_type": "code",
   "execution_count": 25,
   "metadata": {},
   "outputs": [],
   "source": [
    "s = env.reset()\n",
    "s = s[None, :]"
   ]
  },
  {
   "cell_type": "code",
   "execution_count": 26,
   "metadata": {},
   "outputs": [
    {
     "data": {
      "text/plain": [
       "array([[0.2376354 , 0.15770362, 0.24333568]], dtype=float32)"
      ]
     },
     "execution_count": 26,
     "metadata": {},
     "output_type": "execute_result"
    }
   ],
   "source": [
    "model.predict(s)"
   ]
  },
  {
   "cell_type": "code",
   "execution_count": 27,
   "metadata": {},
   "outputs": [
    {
     "name": "stdout",
     "output_type": "stream",
     "text": [
      "iter 0\n",
      "iter 1\n",
      "iter 2\n",
      "iter 3\n",
      "iter 4\n",
      "iter 5\n",
      "iter 6\n",
      "iter 7\n",
      "iter 8\n",
      "iter 9\n",
      "iter 10\n",
      "iter 11\n",
      "iter 12\n",
      "iter 13\n",
      "iter 14\n",
      "iter 15\n",
      "iter 16\n",
      "iter 17\n",
      "iter 18\n",
      "iter 19\n"
     ]
    }
   ],
   "source": [
    "max_steps = env.spec.timestep_limit\n",
    "returns = []\n",
    "for i in range(20):\n",
    "    print('iter', i)\n",
    "    obs = env.reset()\n",
    "    done = False\n",
    "    totalr = 0.\n",
    "    steps = 0\n",
    "    while not done:\n",
    "        action = model.predict(obs[None,:])\n",
    "#         observations.append(obs)\n",
    "#         actions.append(action)\n",
    "        obs, r, done, _ = env.step(action)\n",
    "        totalr += r\n",
    "        steps += 1\n",
    "        if steps >= max_steps:\n",
    "            break\n",
    "    returns.append(totalr)"
   ]
  },
  {
   "cell_type": "code",
   "execution_count": 28,
   "metadata": {},
   "outputs": [
    {
     "data": {
      "text/plain": [
       "91.44769226378514"
      ]
     },
     "execution_count": 28,
     "metadata": {},
     "output_type": "execute_result"
    }
   ],
   "source": [
    "np.mean(returns)"
   ]
  },
  {
   "cell_type": "code",
   "execution_count": null,
   "metadata": {
    "collapsed": true
   },
   "outputs": [],
   "source": []
  }
 ],
 "metadata": {
  "kernelspec": {
   "display_name": "Python 3",
   "language": "python",
   "name": "python3"
  },
  "language_info": {
   "codemirror_mode": {
    "name": "ipython",
    "version": 3
   },
   "file_extension": ".py",
   "mimetype": "text/x-python",
   "name": "python",
   "nbconvert_exporter": "python",
   "pygments_lexer": "ipython3",
   "version": "3.6.2"
  }
 },
 "nbformat": 4,
 "nbformat_minor": 2
}
